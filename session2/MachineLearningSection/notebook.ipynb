{
 "cells": [
  {
   "cell_type": "markdown",
   "metadata": {},
   "source": [
    "# Basic Machine Learning\n",
    "\n",
    "Machine Learning Tasks\n",
    "\n",
    "* Supervised\n",
    "  * Regression\n",
    "  * Classification\n",
    "  * Localization\n",
    "  * Object Detection\n",
    "  * Semantic Segmentation\n",
    "  * Instance Segmentation\n",
    "* Unsupervised\n",
    "  * Clustering\n",
    "\n",
    "![image.png](pic1.png)\n",
    "\n",
    "Learn more at: [Hands-On Machine Learning with Agricultural Applications](https://www.ag2pi.org/workshops-and-activities/workshop-2022-02/)\n",
    "\n",
    "## Packages\n",
    "\n",
    "* Scipy\n",
    "* Sklearn\n",
    "\n",
    "---\n",
    "\n",
    "## Linear Regression \n",
    "\n",
    "* what \n",
    "  * Fit a line through some points\n",
    "* why\n",
    "  * Find relations between independen and dependent variables.\n",
    "  * We have low resolution data points and want to query on the missing parts."
   ]
  },
  {
   "cell_type": "markdown",
   "metadata": {},
   "source": [
    "## R-squared\n",
    "\n",
    "* Goodness of fit\n",
    "* percentage of the variance in the dependent variable that the independent variables explain collectively\n",
    "\n",
    "$R^2 = \\frac{variance\\:explained\\:by\\:the\\:model}{total\\:variance}$"
   ]
  },
  {
   "cell_type": "code",
   "execution_count": null,
   "metadata": {},
   "outputs": [],
   "source": [
    "import matplotlib.pyplot as plt\n",
    "from scipy import stats\n",
    "from sklearn.preprocessing import PolynomialFeatures\n",
    "from sklearn.linear_model import LinearRegression\n",
    "import pandas as pd\n",
    "import numpy as np"
   ]
  },
  {
   "cell_type": "code",
   "execution_count": null,
   "metadata": {},
   "outputs": [],
   "source": [
    "n = 50\n",
    "rng = np.random.default_rng()\n",
    "x = rng.random(n)\n",
    "y = 1.6*x + rng.random(n)\n",
    "\n",
    "print(x)\n",
    "print(y)"
   ]
  },
  {
   "cell_type": "markdown",
   "metadata": {},
   "source": [
    "### Linear Regression Formula\n",
    "\n",
    "$y = a \\times x + b$"
   ]
  },
  {
   "cell_type": "code",
   "execution_count": null,
   "metadata": {},
   "outputs": [],
   "source": [
    "res = stats.linregress(x, y)\n",
    "print(f\"R-squared: {res.rvalue**2:.6f}\")\n",
    "\n",
    "plt.figure(figsize=(10,6))\n",
    "plt.plot(x, y, 'o', label='original data')\n",
    "plt.plot(x, res.intercept + res.slope*x, 'r', label='fitted line')\n",
    "plt.legend()\n",
    "plt.show()"
   ]
  },
  {
   "cell_type": "markdown",
   "metadata": {},
   "source": [
    "## Nonlinear Regression\n",
    "\n",
    "* Nonlinear function between dependent and independent variables\n",
    "    * Nonlinear operations (multiplication, power, etc.) between independent variables.\n",
    "* Polynomial fitting\n",
    "* polynomial regression is a linear model used for describing non-linear relationships.\n",
    "    * Use the notion of the kernel\n",
    "    * Define fixed nonlinear terms (powers and multiplications)\n",
    "    * Transform input into the kernel/features space\n",
    "    * Relation between coefficients and Nonlinear terms become linear\n",
    "    * Can solve using a linear regressor\n",
    "\n",
    "<img src=\"fig1.png\" alt=\"drawing\" width=\"500\"/></br>\n",
    "<!-- ![image.png](fig1.png) -->\n",
    "\n",
    "<img src=\"fig2.png\" alt=\"drawing\" width=\"500\"/></br>\n",
    "<!-- ![image.png](fig2.png) -->\n",
    "\n",
    "<img src=\"fig3.png\" alt=\"drawing\" width=\"500\"/></br>\n",
    "<!-- ![image.png](fig3.png) -->\n"
   ]
  },
  {
   "cell_type": "code",
   "execution_count": null,
   "metadata": {},
   "outputs": [],
   "source": [
    "x = np.arange(0, 30)\n",
    "y = [3, 4, 5, 7, 10, 8, 9, 10, 10, 23, 27, 44, 50, 63, 67, 60, 62, 70, 75, 88, 81, 87, 95, 100, 108, 135, 151, 160, 169, 179]\n",
    "plt.figure(figsize=(10,6))\n",
    "plt.scatter(x, y, label='original data')\n",
    "plt.legend()\n",
    "plt.show()"
   ]
  },
  {
   "cell_type": "markdown",
   "metadata": {},
   "source": [
    "## Polynomial Fitting Formula\n",
    "\n",
    "$y = \\sum_{i=0}^{n} a_i\\times x^i$\n",
    "\n",
    "Where $x^i$ s are the features and $a_i$ s are the corresponding coefficients we are looking for. \n",
    "\n",
    "### Linear Regression Formula (Recap)\n",
    "\n",
    "$y = a \\times x^1 + b \\times x^0$"
   ]
  },
  {
   "cell_type": "code",
   "execution_count": null,
   "metadata": {},
   "outputs": [],
   "source": [
    "poly = PolynomialFeatures(degree=12, include_bias=False)\n",
    "poly_features = poly.fit_transform(x.reshape(-1, 1))\n",
    "\n",
    "poly_reg_model = LinearRegression()\n",
    "poly_reg_model.fit(poly_features, y)\n",
    "\n",
    "y_predicted = poly_reg_model.predict(poly_features)"
   ]
  },
  {
   "cell_type": "code",
   "execution_count": null,
   "metadata": {},
   "outputs": [],
   "source": [
    "plt.figure(figsize=(10, 6))\n",
    "plt.title(\"Your first polynomial regression – congrats! :)\", size=16)\n",
    "plt.scatter(x, y, label='original data')\n",
    "plt.plot(x, y_predicted, c=\"red\", label='fitter polynomial')\n",
    "plt.legend()\n",
    "plt.show()"
   ]
  },
  {
   "cell_type": "markdown",
   "metadata": {},
   "source": [
    "## Example\n",
    "\n",
    "AZMET air temperature data"
   ]
  },
  {
   "cell_type": "code",
   "execution_count": null,
   "metadata": {},
   "outputs": [],
   "source": [
    "data = pd.read_csv('data.csv')\n",
    "data"
   ]
  },
  {
   "cell_type": "code",
   "execution_count": null,
   "metadata": {},
   "outputs": [],
   "source": [
    "data_parsed = data.to_numpy()\n",
    "\n",
    "plt.figure(figsize=(10,6))\n",
    "plt.scatter(data_parsed[:,0], data_parsed[:,1], label='original data')\n",
    "plt.legend()\n",
    "plt.show()"
   ]
  },
  {
   "cell_type": "code",
   "execution_count": null,
   "metadata": {},
   "outputs": [],
   "source": [
    "x = data_parsed[:,0]\n",
    "y = data_parsed[:,1]\n",
    "\n",
    "poly = PolynomialFeatures(degree=6, include_bias=False)\n",
    "poly_features = poly.fit_transform(x.reshape(-1, 1))\n",
    "\n",
    "poly_reg_model = LinearRegression()\n",
    "poly_reg_model.fit(poly_features, y)\n",
    "\n",
    "y_predicted = poly_reg_model.predict(poly_features)\n",
    "\n",
    "print(poly_reg_model.predict(poly.fit_transform([[7.4]])))\n",
    "\n",
    "plt.figure(figsize=(10, 6))\n",
    "plt.title(\"Your first polynomial regression – congrats! :)\", size=16)\n",
    "plt.scatter(x, y, label='original data')\n",
    "plt.plot(x, y_predicted, c=\"red\", label='fitter polynomial')\n",
    "plt.legend()\n",
    "plt.show()"
   ]
  },
  {
   "cell_type": "markdown",
   "metadata": {},
   "source": [
    "## Overfitting"
   ]
  },
  {
   "cell_type": "code",
   "execution_count": null,
   "metadata": {},
   "outputs": [],
   "source": [
    "x = np.arange(-10, 10)\n",
    "y = -2*x**3+9*x**2+5*x\n",
    "\n",
    "noise_fac = 5000\n",
    "noise = noise_fac*np.random.random(x.shape[0])-noise_fac/2\n",
    "\n",
    "y_noisy = y+noise\n",
    "\n",
    "plt.figure(figsize=(10,6))\n",
    "plt.scatter(x, y_noisy, label='original data')\n",
    "plt.plot(x, y, c=\"green\", label='generative polynomial')\n",
    "plt.legend()\n",
    "plt.show()"
   ]
  },
  {
   "cell_type": "code",
   "execution_count": null,
   "metadata": {},
   "outputs": [],
   "source": [
    "deg = 4\n",
    "\n",
    "poly = PolynomialFeatures(degree=deg, include_bias=False)\n",
    "poly_features = poly.fit_transform(x.reshape(-1, 1))\n",
    "\n",
    "poly_reg_model = LinearRegression()\n",
    "poly_reg_model.fit(poly_features, y_noisy)\n",
    "\n",
    "y_predicted = poly_reg_model.predict(poly_features)"
   ]
  },
  {
   "cell_type": "code",
   "execution_count": null,
   "metadata": {},
   "outputs": [],
   "source": [
    "plt.figure(figsize=(10, 6))\n",
    "plt.title(\"Your first polynomial regression – congrats! :)\", size=16)\n",
    "plt.scatter(x, y_noisy, label='original data')\n",
    "plt.plot(x, y, c=\"green\", label='generative polynomial')\n",
    "plt.plot(x, y_predicted, c=\"red\", label='fitted polynomial')\n",
    "plt.legend()\n",
    "plt.show()"
   ]
  }
 ],
 "metadata": {
  "interpreter": {
   "hash": "31f2aee4e71d21fbe5cf8b01ff0e069b9275f58929596ceb00d14d90e3e16cd6"
  },
  "kernelspec": {
   "display_name": "Python 3.6.9 64-bit",
   "language": "python",
   "name": "python3"
  },
  "language_info": {
   "codemirror_mode": {
    "name": "ipython",
    "version": 3
   },
   "file_extension": ".py",
   "mimetype": "text/x-python",
   "name": "python",
   "nbconvert_exporter": "python",
   "pygments_lexer": "ipython3",
   "version": "3.8.12"
  },
  "orig_nbformat": 4
 },
 "nbformat": 4,
 "nbformat_minor": 2
}
